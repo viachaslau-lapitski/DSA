{
  "nbformat": 4,
  "nbformat_minor": 0,
  "metadata": {
    "colab": {
      "provenance": [],
      "authorship_tag": "ABX9TyMf7tjkgFi8TdCS/h5UDirx",
      "include_colab_link": true
    },
    "kernelspec": {
      "name": "python3",
      "display_name": "Python 3"
    },
    "language_info": {
      "name": "python"
    }
  },
  "cells": [
    {
      "cell_type": "markdown",
      "metadata": {
        "id": "view-in-github",
        "colab_type": "text"
      },
      "source": [
        "<a href=\"https://colab.research.google.com/github/viachaslau-lapitski/DSA/blob/master/perftest.ipynb\" target=\"_parent\"><img src=\"https://colab.research.google.com/assets/colab-badge.svg\" alt=\"Open In Colab\"/></a>"
      ]
    },
    {
      "cell_type": "code",
      "source": [
        "import random  \n",
        "import requests  \n",
        "import time  \n",
        "from typing import Tuple  "
      ],
      "metadata": {
        "id": "wqI2Z-pR4U1y"
      },
      "execution_count": null,
      "outputs": []
    },
    {
      "cell_type": "code",
      "source": [
        "def make_http_call(url: str) -> None:  \n",
        "    try:  \n",
        "        response = requests.get(url)  \n",
        "        print(f\"URL: {url}, Status: {response.status_code}\")  \n",
        "    except requests.exceptions.RequestException as e:  \n",
        "        print(f\"Error making HTTP call to {url}: {e}\")  "
      ],
      "metadata": {
        "id": "GQxc6coQ4IzO"
      },
      "execution_count": null,
      "outputs": []
    },
    {
      "cell_type": "code",
      "execution_count": null,
      "metadata": {
        "id": "LCICbHRy2pJq"
      },
      "outputs": [],
      "source": [
        "def weighted_random_url(url1: Tuple[str, int], url2: Tuple[str, int]) -> str:  \n",
        "    return random.choices([url1[0], url2[0]], [url1[1], url2[1]])[0]  \n",
        "  \n",
        "  \n",
        "def main(N: int, pause: float) -> None:  \n",
        "    url1 = (\"http://localhost:8080/test/good\", 8)  \n",
        "    url2 = (\"http://localhost:8080/test/bad\", 2)  \n",
        "  \n",
        "    for i in range(N):  \n",
        "        url = weighted_random_url(url1, url2)\n",
        "        #print(f\"iteration {i} url {url}\")  \n",
        "        make_http_call(url)  \n",
        "        time.sleep(pause) "
      ]
    },
    {
      "cell_type": "code",
      "source": [
        "N = 10  # Change this value to set the number of HTTP calls  \n",
        "pause = 0.1  # Change this value to set the pause duration in seconds  \n",
        "main(N, pause)"
      ],
      "metadata": {
        "colab": {
          "base_uri": "https://localhost:8080/"
        },
        "id": "6mtnVgfh3izx",
        "outputId": "d27b7435-611b-47fb-932e-26435ce63c9e"
      },
      "execution_count": null,
      "outputs": [
        {
          "output_type": "stream",
          "name": "stdout",
          "text": [
            "URL: http://localhost:8080/test/good, Status: 404\n",
            "URL: http://localhost:8080/test/good, Status: 404\n",
            "URL: http://localhost:8080/test/good, Status: 404\n",
            "URL: http://localhost:8080/test/bad, Status: 404\n",
            "URL: http://localhost:8080/test/good, Status: 404\n",
            "URL: http://localhost:8080/test/bad, Status: 404\n",
            "URL: http://localhost:8080/test/bad, Status: 404\n",
            "URL: http://localhost:8080/test/bad, Status: 404\n",
            "URL: http://localhost:8080/test/good, Status: 404\n",
            "URL: http://localhost:8080/test/good, Status: 404\n"
          ]
        }
      ]
    }
  ]
}